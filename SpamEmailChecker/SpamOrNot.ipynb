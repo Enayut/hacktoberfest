{
  "nbformat": 4,
  "nbformat_minor": 0,
  "metadata": {
    "colab": {
      "provenance": []
    },
    "kernelspec": {
      "name": "python3",
      "display_name": "Python 3"
    },
    "language_info": {
      "name": "python"
    }
  },
  "cells": [
    {
      "cell_type": "code",
      "execution_count": null,
      "metadata": {
        "id": "OEgvnoFQbf_n"
      },
      "outputs": [],
      "source": [
        "import pandas as pd\n",
        "from scipy.stats import norm\n",
        "\n",
        "df = pd.read_csv('Bayes.csv')\n",
        "spam_count = df['Spam'].where(lambda x: x == 'Yes').dropna().count()\n",
        "not_spam_count = df['Spam'].where(lambda x: x == 'No').dropna().count()\n",
        "p_of_spam = spam_count/(spam_count+not_spam_count)\n",
        "p_of_not_spam = not_spam_count/(spam_count+not_spam_count)"
      ]
    },
    {
      "cell_type": "code",
      "source": [
        "p_offer = (df['Contains_Offer'].where(lambda x: x == 'Yes').dropna().count())/10000\n",
        "p_not_offer = (df['Contains_Offer'].where(lambda x: x == 'No').dropna().count())/10000\n",
        "p_spam_and_offer = df[(df['Contains_Offer'] == \"Yes\") & (df['Spam'] == \"Yes\")].shape[0]/10000\n",
        "p_not_spam_and_offer = df[(df['Contains_Offer'] == \"Yes\") & (df['Spam'] == \"No\")].shape[0]/10000\n",
        "p_offer_if_spam = p_spam_and_offer/p_of_spam\n",
        "p_offer_if_not_spam = p_not_spam_and_offer/p_of_not_spam"
      ],
      "metadata": {
        "id": "7_xh4RxllaKC"
      },
      "execution_count": null,
      "outputs": []
    },
    {
      "cell_type": "code",
      "source": [
        "p_win = df[df['Contains_Win'] == \"Yes\"].shape[0]/10000\n",
        "p_not_win = df[df['Contains_Win'] == \"No\"].shape[0]/10000\n",
        "p_spam_and_win = df[(df['Contains_Win'] == \"Yes\") & (df['Spam'] == \"Yes\")].shape[0]/10000\n",
        "p_not_spam_and_win = df[(df['Contains_Win'] == \"Yes\") & (df['Spam'] == \"No\")].shape[0]/10000\n",
        "p_win_given_spam = p_spam_and_win/p_of_spam\n",
        "p_win_given_not_spam = p_not_spam_and_win/p_of_not_spam"
      ],
      "metadata": {
        "id": "9ZzXzA_61bW7"
      },
      "execution_count": null,
      "outputs": []
    },
    {
      "cell_type": "code",
      "source": [
        "p_fin = df[df['Contains_Financial'] == \"Yes\"].shape[0]/10000\n",
        "p_not_fin = df[df['Contains_Financial'] == \"No\"].shape[0]/10000\n",
        "p_spam_and_fin = df[(df['Contains_Financial'] == \"Yes\") & (df['Spam'] == \"Yes\")].shape[0]/10000\n",
        "p_not_spam_and_fin = df[(df['Contains_Financial'] == \"Yes\") & (df['Spam'] == \"No\")].shape[0]/10000\n",
        "p_fin_given_spam = p_spam_and_fin/p_of_spam\n",
        "p_fin_given_not_spam = p_not_spam_and_fin/p_of_not_spam"
      ],
      "metadata": {
        "id": "FgPR05cQ2Aby"
      },
      "execution_count": null,
      "outputs": []
    },
    {
      "cell_type": "code",
      "source": [
        "def gaussian_likelihood(x, mean, std):\n",
        "    return norm.pdf(x, mean, std)"
      ],
      "metadata": {
        "id": "IFSM03LT32aa"
      },
      "execution_count": null,
      "outputs": []
    },
    {
      "cell_type": "code",
      "source": [
        "email_length_mean_spam = df[df['Spam']==\"Yes\"]['Email_Length'].mean()\n",
        "email_length_std_spam = df[df['Spam']==\"Yes\"]['Email_Length'].std()\n",
        "\n",
        "email_length_mean_not_spam = df[df['Spam']==\"No\"]['Email_Length'].mean()\n",
        "email_length_std_not_spam = df[df['Spam']==\"No\"]['Email_Length'].std()\n",
        "\n",
        "capital_ratio_mean_spam = df[df['Spam']==\"Yes\"]['Capital_Letter_Ratio'].mean()\n",
        "capital_ratio_std_spam = df[df['Spam']==\"Yes\"]['Capital_Letter_Ratio'].std()\n",
        "\n",
        "capital_ratio_mean_not_spam = df[df['Spam']==\"No\"]['Capital_Letter_Ratio'].mean()\n",
        "capital_ratio_std_not_spam = df[df['Spam']==\"No\"]['Capital_Letter_Ratio'].std()"
      ],
      "metadata": {
        "id": "0Ppaos893pZj"
      },
      "execution_count": null,
      "outputs": []
    },
    {
      "cell_type": "code",
      "source": [
        "def calculate_posterior(email):\n",
        "    # Extract features from email\n",
        "    contains_offer = email['Contains_Offer']\n",
        "    contains_win = email['Contains_Win']\n",
        "    contains_financial = email['Contains_Financial']\n",
        "    email_length = email['Email_Length']\n",
        "    capital_letter_ratio = email['Capital_Letter_Ratio']\n",
        "\n",
        "    # Calculate likelihoods for spam\n",
        "    likelihood_spam = (p_offer_if_spam if contains_offer == \"Yes\" else (1 - p_offer_if_spam)) * \\\n",
        "                      (p_win_given_spam if contains_win == \"Yes\" else (1 - p_win_given_spam)) * \\\n",
        "                      (p_fin_given_spam if contains_financial == \"Yes\" else (1 - p_fin_given_spam)) * \\\n",
        "                      gaussian_likelihood(email_length, email_length_mean_spam, email_length_std_spam) * \\\n",
        "                      gaussian_likelihood(capital_letter_ratio, capital_ratio_mean_spam, capital_ratio_std_spam)\n",
        "\n",
        "    # Calculate likelihoods for not spam\n",
        "    likelihood_not_spam = (p_offer_if_not_spam if contains_offer == \"Yes\" else (1 - p_offer_if_not_spam)) * \\\n",
        "                          (p_win_given_not_spam if contains_win == \"Yes\" else (1 - p_win_given_not_spam)) * \\\n",
        "                          (p_fin_given_not_spam if contains_financial == \"Yes\" else (1 - p_fin_given_not_spam)) * \\\n",
        "                          gaussian_likelihood(email_length, email_length_mean_not_spam, email_length_std_not_spam) * \\\n",
        "                          gaussian_likelihood(capital_letter_ratio, capital_ratio_mean_not_spam, capital_ratio_std_not_spam)\n",
        "\n",
        "    # Calculate posterior probabilities\n",
        "    posterior_spam = likelihood_spam * p_of_spam\n",
        "    posterior_not_spam = likelihood_not_spam * p_of_not_spam\n",
        "    # print(posterior_spam - posterior_not_spam)\n",
        "    # Return classification based on higher posterior probability\n",
        "    if posterior_spam > posterior_not_spam:\n",
        "        return \"Spam\"\n",
        "    else:\n",
        "        return \"Not Spam\""
      ],
      "metadata": {
        "id": "PDoB_76s3iIy"
      },
      "execution_count": null,
      "outputs": []
    },
    {
      "cell_type": "code",
      "source": [
        "emails = [\n",
        "    {'Contains_Offer': \"No\", 'Contains_Win': \"Yes\", 'Contains_Financial': \"No\", 'Email_Length': 450, 'Capital_Letter_Ratio': 0.2},\n",
        "    {'Contains_Offer': \"Yes\", 'Contains_Win': \"Yes\", 'Contains_Financial': \"No\", 'Email_Length': 150, 'Capital_Letter_Ratio': 0.05},\n",
        "    {'Contains_Offer': \"No\", 'Contains_Win': \"No\", 'Contains_Financial': \"Yes\", 'Email_Length': 500, 'Capital_Letter_Ratio': 0.25},\n",
        "    {'Contains_Offer': \"Yes\", 'Contains_Win': \"No\", 'Contains_Financial': \"No\", 'Email_Length': 300, 'Capital_Letter_Ratio': 0.08},\n",
        "    {'Contains_Offer': \"No\", 'Contains_Win': \"Yes\", 'Contains_Financial': \"Yes\", 'Email_Length': 450, 'Capital_Letter_Ratio': 0.3}\n",
        "]\n",
        "\n",
        "# Classify each email\n",
        "for i, email in enumerate(emails):\n",
        "    classification = calculate_posterior(email)\n",
        "    print(f\"Email {i+1} is classified as: {classification}\")"
      ],
      "metadata": {
        "colab": {
          "base_uri": "https://localhost:8080/"
        },
        "id": "PLqNHcy98tFC",
        "outputId": "50fa8509-1f0c-494b-9fe0-84745bb621b6"
      },
      "execution_count": null,
      "outputs": [
        {
          "output_type": "stream",
          "name": "stdout",
          "text": [
            "Email 1 is classified as: Spam\n",
            "Email 2 is classified as: Spam\n",
            "Email 3 is classified as: Spam\n",
            "Email 4 is classified as: Not Spam\n",
            "Email 5 is classified as: Not Spam\n"
          ]
        }
      ]
    }
  ]
}